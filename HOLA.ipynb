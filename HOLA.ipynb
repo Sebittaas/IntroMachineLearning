{
  "nbformat": 4,
  "nbformat_minor": 0,
  "metadata": {
    "colab": {
      "provenance": []
    },
    "kernelspec": {
      "name": "python3",
      "display_name": "Python 3"
    },
    "language_info": {
      "name": "python"
    }
  },
  "cells": [
    {
      "cell_type": "markdown",
      "source": [
        "#**HOLA**"
      ],
      "metadata": {
        "id": "w6BrJnd1Idw1"
      }
    },
    {
      "cell_type": "code",
      "execution_count": 1,
      "metadata": {
        "colab": {
          "base_uri": "https://localhost:8080/"
        },
        "id": "LVutiuv6IQxf",
        "outputId": "0fd3e040-0e07-4546-956c-63858e3095f1"
      },
      "outputs": [
        {
          "output_type": "stream",
          "name": "stdout",
          "text": [
            "HOLA MUNDO\n"
          ]
        }
      ],
      "source": [
        "print(\"HOLA MUNDO\")"
      ]
    }
  ]
}